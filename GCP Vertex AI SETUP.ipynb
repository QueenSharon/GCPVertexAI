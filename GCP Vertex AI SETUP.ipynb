{
 "cells": [
  {
   "cell_type": "code",
   "execution_count": null,
   "id": "c54668e3-b3ad-4562-ae4b-21e5ec5fc08b",
   "metadata": {},
   "outputs": [],
   "source": [
    "from google.cloud import bigquery\n",
    "bq = bigquery.Client(project = \"project\")\n",
    "\n",
    "import pytz\n",
    "\n",
    "# Construct a BigQuery client object.\n",
    "client = bigquery.Client()\n",
    "\n",
    "# TODO(developer): Set table_id to the ID of the table to create.\n",
    "table_id = \"project.dataset.table_wirte\""
   ]
  },
  {
   "cell_type": "code",
   "execution_count": null,
   "id": "3070e48f-6ce1-4cee-a8b8-0d1646d5f2c1",
   "metadata": {},
   "outputs": [],
   "source": [
    "query = \"\"\"\n",
    "SELECT * from `table`\n",
    "\n",
    "\"\"\"\n",
    "df = bq.query(query = query).to_dataframe()"
   ]
  },
  {
   "cell_type": "code",
   "execution_count": null,
   "id": "a625a993-66d9-4aa4-bd06-3ef67bf9f161",
   "metadata": {},
   "outputs": [],
   "source": [
    "df=df.groupby('a')['b'].sum().reset_index()"
   ]
  },
  {
   "cell_type": "code",
   "execution_count": null,
   "id": "5668f7e4-e547-4b4e-93c0-53ea18c17d2f",
   "metadata": {},
   "outputs": [],
   "source": [
    "# Write DF back to GCP as a table \n",
    "job_config = bigquery.LoadJobConfig(\n",
    "  #   \"\"\"\n",
    "  #    # Specify a (partial) schema. All columns are always written to the\n",
    "  #   # table. The schema is used to assist in data type definitions.\n",
    "  #   schema=[\n",
    "#       # Specify the type of columns whose type cannot be auto-detected. For\n",
    "  #       # example the \"product_nbr\" column uses pandas dtype \"object\", so its\n",
    "  #       data type is ambiguous. Change to STRING. \n",
    "  #       bigquery.SchemaField(\"product_nbr\", bigquery.enums.SqlTypeNames.STRING),\n",
    "  #       # Indexes are written if included in the schema by name.\n",
    "  #       bigquery.SchemaField(\"index\", bigquery.enums.SqlTypeNames.STRING)\n",
    "  #   ],\n",
    "  #   # Optionally, set the write disposition. BigQuery appends loaded rows\n",
    "  #   # to an existing table by default, but with WRITE_TRUNCATE write\n",
    "  #   # disposition it replaces the table with the loaded data.\n",
    "  # \"\"\"\n",
    "    \n",
    "    write_disposition=\"WRITE_TRUNCATE\",\n",
    ")\n",
    "\n",
    "job = client.load_table_from_dataframe(\n",
    "    df, table_id, job_config=job_config\n",
    ")  # Make an API request.\n",
    "job.result()  # Wait for the job to complete."
   ]
  },
  {
   "cell_type": "code",
   "execution_count": null,
   "id": "1ea6cab8-9ad1-4621-9149-b7d01936e1f0",
   "metadata": {},
   "outputs": [],
   "source": [
    "table = client.get_table(table_id)  # Make an API request.\n",
    "print(\n",
    "    \"Loaded {} rows and {} columns to {}\".format(\n",
    "        table.num_rows, len(table.schema), table_id\n",
    "    )\n",
    ")"
   ]
  },
  {
   "cell_type": "code",
   "execution_count": null,
   "id": "65fc8f93-66ff-44fe-9279-3797f99b6155",
   "metadata": {},
   "outputs": [],
   "source": []
  }
 ],
 "metadata": {
  "environment": {
   "kernel": "python3",
   "name": "common-cpu.m94",
   "type": "gcloud",
   "uri": "gcr.io/deeplearning-platform-release/base-cpu:m94"
  },
  "kernelspec": {
   "display_name": "Python 3",
   "language": "python",
   "name": "python3"
  },
  "language_info": {
   "codemirror_mode": {
    "name": "ipython",
    "version": 3
   },
   "file_extension": ".py",
   "mimetype": "text/x-python",
   "name": "python",
   "nbconvert_exporter": "python",
   "pygments_lexer": "ipython3",
   "version": "3.7.12"
  }
 },
 "nbformat": 4,
 "nbformat_minor": 5
}
